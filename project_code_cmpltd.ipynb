{
  "cells": [
    {
      "cell_type": "markdown",
      "source": [
        "**A NOVEL APPROACH TO MALAYALAM SPEECH-TO-TEXT AND TEXT-TO-ENGLISH\n",
        "TRANSLATION**\n",
        "\n",
        "The provided code creates a speech-to-text and translation application using Tkinter and various libraries. Here's a breakdown of the code and potential improvements:\n",
        "\n",
        "**Code Breakdown:**\n",
        "\n",
        "- **Imports:**\n",
        "    - Tkinter for GUI elements.\n",
        "    - `speech_recognition` for speech recognition.\n",
        "    - `threading` for running speech recognition in a separate thread.\n",
        "    - `indicnlp` and `ctranslate2` for Malayalam text processing and translation.\n",
        "    - `sentencepiece` for sentence tokenization.\n",
        "    - `matplotlib` (not directly used, potentially a leftover import).\n",
        "- **`translate_text` Placeholder:** This function needs to be implemented to handle the translation logic based on your chosen translation library.\n",
        "- **`add_token` Function:** Adds language tags to the sentence.\n",
        "- **`preprocess_sentence` Function:**\n",
        "    - Normalizes Malayalam text.\n",
        "    - Transliterates to Hindi.\n",
        "    - Splits into sentences and tokens.\n",
        "    - Handles sentences exceeding a maximum length.\n",
        "    - Uses `ctranslate2` for translation.\n",
        "    - Returns the translated text.\n",
        "- **`EloquenSpeakerApp` Class:**\n",
        "    - Initializes the Tkinter window, recognizer, and microphone.\n",
        "    - Sets up the GUI elements:\n",
        "        - Title and geometry for the window.\n",
        "        - Labels for instructions and text boxes.\n",
        "        - Buttons for start recording and exit.\n",
        "    - **`start_recording` Function:**\n",
        "        - Starts recording in a separate thread.\n",
        "        - Updates the UI during different stages.\n",
        "    - **`update_transcription` Function:**\n",
        "        - Updates the transcription text box with recognized text and calls the translation function.\n",
        "        - Updates the translation text box.\n",
        "        - Re-enables the start recording button.\n",
        "    - **`recognize_speech` Function:**\n",
        "        - Adjusts for ambient noise.\n",
        "        - Listens for audio input.\n",
        "        - Uses `recognizer.recognize_google` to convert audio to text.\n",
        "        - Handles potential errors (UnknownValueError, RequestError).\n",
        "    - **`exit_application` Function:**\n",
        "        - Quits the Tkinter application.\n",
        "\n",
        "**Potential Improvements:**\n",
        "\n",
        "- **Error Handling:** Consider adding more specific error handling for different translation issues.\n",
        "- **Translation Library Integration:** Implement the `translate_text` function based on your preferred translation library (e.g., `googletrans`).\n",
        "- **User Control:** Allow users to choose the translation language from the GUI.\n",
        "- **Stop Recording Functionality:** Add a button or hotkey to stop recording.\n",
        "- **Progress Bar:** Consider adding a progress bar or visual indicator while translating.\n",
        "- **Clear Text Boxes:** Allow users to clear the existing text in the boxes before recording.\n",
        "\n",
        "**Running the Code:**\n",
        "\n",
        "1. Install required libraries using `pip install tkinter speech_recognition indicnlp ctranslate2 sentencepiece` (if not already installed).\n",
        "2. Complete the implementation of the `translate_text` function for your chosen translation library.\n",
        "3. Make sure you have the necessary model files for the translation process (if applicable).\n",
        "4. Run the script using `python your_script_name.py`.\n",
        "\n",
        "This enhanced code provides a solid foundation for a speech-to-text and translation application in Python. Feel free to tailor it further based on your specific requirements and desired functionalities.\n"
      ],
      "metadata": {
        "id": "33thALElnBW3"
      },
      "id": "33thALElnBW3"
    },
    {
      "cell_type": "code",
      "execution_count": null,
      "id": "4fdb7fc1-4413-47d5-93bb-ee7ca2a25a93",
      "metadata": {
        "id": "4fdb7fc1-4413-47d5-93bb-ee7ca2a25a93"
      },
      "outputs": [],
      "source": [
        "!pip install indicnlp"
      ]
    },
    {
      "cell_type": "code",
      "execution_count": null,
      "id": "bfbed484-a35a-40f2-b58c-e69ea33a9113",
      "metadata": {
        "id": "bfbed484-a35a-40f2-b58c-e69ea33a9113"
      },
      "outputs": [],
      "source": [
        "!pip install indic-nlp-library"
      ]
    },
    {
      "cell_type": "code",
      "execution_count": null,
      "id": "54f35dd7-5ddc-4758-b384-ee5f8b6ef6c2",
      "metadata": {
        "id": "54f35dd7-5ddc-4758-b384-ee5f8b6ef6c2"
      },
      "outputs": [],
      "source": [
        "!pip install ctranslate2"
      ]
    },
    {
      "cell_type": "code",
      "execution_count": null,
      "id": "2f24c92a-d62f-49c2-9502-a8f0d3cdc786",
      "metadata": {
        "id": "2f24c92a-d62f-49c2-9502-a8f0d3cdc786"
      },
      "outputs": [],
      "source": [
        "!pip install sentencepiece"
      ]
    },
    {
      "cell_type": "code",
      "source": [
        "!pip install speechrecognition"
      ],
      "metadata": {
        "id": "7XJrabgFkY7E"
      },
      "id": "7XJrabgFkY7E",
      "execution_count": null,
      "outputs": []
    },
    {
      "cell_type": "code",
      "source": [
        "!pip install tk"
      ],
      "metadata": {
        "id": "w29xaPqYk044"
      },
      "id": "w29xaPqYk044",
      "execution_count": null,
      "outputs": []
    },
    {
      "cell_type": "code",
      "execution_count": 17,
      "metadata": {
        "colab": {
          "base_uri": "https://localhost:8080/",
          "height": 349
        },
        "id": "672441f5-4588-4100-95a5-d8e136d3b3ba",
        "outputId": "53ded454-df87-466f-b6fc-0fc6552dcdf1"
      },
      "outputs": [
        {
          "output_type": "error",
          "ename": "TclError",
          "evalue": "no display name and no $DISPLAY environment variable",
          "traceback": [
            "\u001b[0;31m---------------------------------------------------------------------------\u001b[0m",
            "\u001b[0;31mTclError\u001b[0m                                  Traceback (most recent call last)",
            "\u001b[0;32m<ipython-input-17-799d03767cf0>\u001b[0m in \u001b[0;36m<cell line: 162>\u001b[0;34m()\u001b[0m\n\u001b[1;32m    161\u001b[0m \u001b[0;34m\u001b[0m\u001b[0m\n\u001b[1;32m    162\u001b[0m \u001b[0;32mif\u001b[0m \u001b[0m__name__\u001b[0m \u001b[0;34m==\u001b[0m \u001b[0;34m\"__main__\"\u001b[0m\u001b[0;34m:\u001b[0m\u001b[0;34m\u001b[0m\u001b[0;34m\u001b[0m\u001b[0m\n\u001b[0;32m--> 163\u001b[0;31m     \u001b[0mroot\u001b[0m \u001b[0;34m=\u001b[0m \u001b[0mtk\u001b[0m\u001b[0;34m.\u001b[0m\u001b[0mTk\u001b[0m\u001b[0;34m(\u001b[0m\u001b[0;34m)\u001b[0m\u001b[0;34m\u001b[0m\u001b[0;34m\u001b[0m\u001b[0m\n\u001b[0m\u001b[1;32m    164\u001b[0m     \u001b[0mapp\u001b[0m \u001b[0;34m=\u001b[0m \u001b[0mEloquentSpeakerApp\u001b[0m\u001b[0;34m(\u001b[0m\u001b[0mroot\u001b[0m\u001b[0;34m)\u001b[0m\u001b[0;34m\u001b[0m\u001b[0;34m\u001b[0m\u001b[0m\n\u001b[1;32m    165\u001b[0m     \u001b[0mroot\u001b[0m\u001b[0;34m.\u001b[0m\u001b[0mmainloop\u001b[0m\u001b[0;34m(\u001b[0m\u001b[0;34m)\u001b[0m\u001b[0;34m\u001b[0m\u001b[0;34m\u001b[0m\u001b[0m\n",
            "\u001b[0;32m/usr/lib/python3.10/tkinter/__init__.py\u001b[0m in \u001b[0;36m__init__\u001b[0;34m(self, screenName, baseName, className, useTk, sync, use)\u001b[0m\n\u001b[1;32m   2297\u001b[0m                 \u001b[0mbaseName\u001b[0m \u001b[0;34m=\u001b[0m \u001b[0mbaseName\u001b[0m \u001b[0;34m+\u001b[0m \u001b[0mext\u001b[0m\u001b[0;34m\u001b[0m\u001b[0;34m\u001b[0m\u001b[0m\n\u001b[1;32m   2298\u001b[0m         \u001b[0minteractive\u001b[0m \u001b[0;34m=\u001b[0m \u001b[0;32mFalse\u001b[0m\u001b[0;34m\u001b[0m\u001b[0;34m\u001b[0m\u001b[0m\n\u001b[0;32m-> 2299\u001b[0;31m         \u001b[0mself\u001b[0m\u001b[0;34m.\u001b[0m\u001b[0mtk\u001b[0m \u001b[0;34m=\u001b[0m \u001b[0m_tkinter\u001b[0m\u001b[0;34m.\u001b[0m\u001b[0mcreate\u001b[0m\u001b[0;34m(\u001b[0m\u001b[0mscreenName\u001b[0m\u001b[0;34m,\u001b[0m \u001b[0mbaseName\u001b[0m\u001b[0;34m,\u001b[0m \u001b[0mclassName\u001b[0m\u001b[0;34m,\u001b[0m \u001b[0minteractive\u001b[0m\u001b[0;34m,\u001b[0m \u001b[0mwantobjects\u001b[0m\u001b[0;34m,\u001b[0m \u001b[0museTk\u001b[0m\u001b[0;34m,\u001b[0m \u001b[0msync\u001b[0m\u001b[0;34m,\u001b[0m \u001b[0muse\u001b[0m\u001b[0;34m)\u001b[0m\u001b[0;34m\u001b[0m\u001b[0;34m\u001b[0m\u001b[0m\n\u001b[0m\u001b[1;32m   2300\u001b[0m         \u001b[0;32mif\u001b[0m \u001b[0museTk\u001b[0m\u001b[0;34m:\u001b[0m\u001b[0;34m\u001b[0m\u001b[0;34m\u001b[0m\u001b[0m\n\u001b[1;32m   2301\u001b[0m             \u001b[0mself\u001b[0m\u001b[0;34m.\u001b[0m\u001b[0m_loadtk\u001b[0m\u001b[0;34m(\u001b[0m\u001b[0;34m)\u001b[0m\u001b[0;34m\u001b[0m\u001b[0;34m\u001b[0m\u001b[0m\n",
            "\u001b[0;31mTclError\u001b[0m: no display name and no $DISPLAY environment variable"
          ]
        }
      ],
      "source": [
        "import tkinter as tk\n",
        "from tkinter import ttk, scrolledtext\n",
        "import speech_recognition as sr\n",
        "import threading\n",
        "import os\n",
        "from indicnlp.tokenize import indic_tokenize\n",
        "from indicnlp.normalize.indic_normalize import IndicNormalizerFactory\n",
        "from indicnlp.transliterate import unicode_transliterate\n",
        "import ctranslate2\n",
        "import sentencepiece as spm\n",
        "import matplotlib\n",
        "matplotlib.use('Agg')\n",
        "# Placeholder for the translate_text function\n",
        "def translate_text(text):\n",
        "    model_dir = \"C:/Users/user/Downloads/final_model(1)/final_model\"\n",
        "    malayalam_sentence = text\n",
        "\n",
        "    translated_sentence = translate_sentence(malayalam_sentence, model_dir)\n",
        "    print(\"Translated sentence:\", translated_sentence)\n",
        "    return \"Translated Text: \" + translated_sentence\n",
        "\n",
        "def add_token(sent: str):\n",
        "\n",
        "    return \"mal_Mlym\" + \" \" + \"eng_Latn\" + \" \" + sent\n",
        "\n",
        "def preprocess_sentence(sentence: str,sp_src,model_dir) -> str:\n",
        "\n",
        "    normfactory = IndicNormalizerFactory()\n",
        "    normalizer = normfactory.get_normalizer(\"ml\")\n",
        "    sent=sentence\n",
        "    xliterator = unicode_transliterate.UnicodeIndicTransliterator()\n",
        "    processed_sent = xliterator.transliterate(\" \".join(indic_tokenize.trivial_tokenize(normalizer.normalize(sent.strip()), \"ml\")),\"ml\",\n",
        "                \"hi\",\n",
        "            ).replace(\" ् \", \"्\")\n",
        "    sents= [\" \".join(sp_src.encode(sent, out_type=str)) for sent in [processed_sent]]\n",
        "\n",
        "    tagged_sents = []\n",
        "    for sent in sents:\n",
        "        tagged_sent = add_token(sent.strip())\n",
        "        tagged_sents.append(tagged_sent)\n",
        "    MAX_SEQ_LEN = 256\n",
        "    new_sents = []\n",
        "\n",
        "    for sent in tagged_sents:\n",
        "        words = sent.split()\n",
        "        num_words = len(words)\n",
        "        if num_words > MAX_SEQ_LEN:\n",
        "            print_str = \" \".join(words[:5]) + \" .... \" + \" \".join(words[-5:])\n",
        "            sent = \" \".join(words[:MAX_SEQ_LEN])\n",
        "            print(\n",
        "                f\"WARNING: Sentence {print_str} truncated to 256 tokens as it exceeds maximum length limit\"\n",
        "            )\n",
        "\n",
        "        new_sents.append(sent)\n",
        "\n",
        "    translator = ctranslate2.Translator(model_dir, device=\"cpu\")\n",
        "    tokenized_sents = [x.strip().split(\" \") for x in new_sents]\n",
        "    translations = translator.translate_batch(\n",
        "            tokenized_sents,\n",
        "            max_batch_size=9216,\n",
        "            batch_type=\"tokens\",\n",
        "            max_input_length=160,\n",
        "            max_decoding_length=256,\n",
        "            beam_size=5,\n",
        "        )\n",
        "    translations = [\" \".join(x.hypotheses[0]) for x in translations]\n",
        "    for i in range(len(translations)):\n",
        "        translations[i] = translations[i].replace(\" \", '').replace(\"▁\", \" \").strip()\n",
        "\n",
        "    return translations[0]\n",
        "\n",
        "def translate_sentence(sentence: str, model_dir: str) :\n",
        "\n",
        "    sp_src = spm.SentencePieceProcessor(model_file=os.path.join(model_dir, \"vocab\", \"model.SRC\"))\n",
        "\n",
        "    preprocessed_sentence = preprocess_sentence(sentence,sp_src,model_dir)\n",
        "\n",
        "    return preprocessed_sentence\n",
        "\n",
        "class EloquentSpeakerApp:\n",
        "    def __init__(self, root):\n",
        "        self.root = root\n",
        "        self.recognizer = sr.Recognizer()\n",
        "        self.microphone = sr.Microphone()\n",
        "        self.setup_ui()\n",
        "\n",
        "    def setup_ui(self):\n",
        "        self.root.title(\"Eloquent Speaker - Speech to Text and Translation\")\n",
        "        self.root.geometry(\"1000x700\")  # Increased window size\n",
        "\n",
        "        # UI Styling\n",
        "        self.root.config(bg=\"#1E2630\")\n",
        "\n",
        "        ttk.Label(self.root, text=\"Eloquent Speaker\", font=(\"Arial\", 28, \"bold\"), background=\"#1E2630\", foreground=\"#FFD700\").pack(pady=20)\n",
        "        ttk.Label(self.root, text=\"Click 'Start Recording' and speak in Malayalam.\", font=(\"Arial\", 14), background=\"#1E2630\", foreground=\"white\").pack(pady=10)\n",
        "\n",
        "        self.start_button = ttk.Button(self.root, text=\"Start Recording\", command=self.start_recording, width=20)\n",
        "        self.start_button.pack(pady=10)\n",
        "\n",
        "        self.transcription_box = scrolledtext.ScrolledText(self.root, wrap=tk.WORD, width=80, height=8, font=(\"Arial\", 14), bg=\"white\")\n",
        "        self.transcription_box.pack(pady=10)\n",
        "        self.transcription_box.insert(tk.END, \"Original Malayalam Text:\\n\")\n",
        "        self.transcription_box.config(state=tk.DISABLED)\n",
        "\n",
        "        self.translation_box = scrolledtext.ScrolledText(self.root, wrap=tk.WORD, width=80, height=8, font=(\"Arial\", 14), bg=\"white\")\n",
        "        self.translation_box.pack(pady=10)\n",
        "        self.translation_box.insert(tk.END, \"Translated English Text:\\n\")\n",
        "        self.translation_box.config(state=tk.DISABLED)\n",
        "\n",
        "        self.exit_button = ttk.Button(self.root, text=\"Exit\", command=self.exit_application, width=20)\n",
        "        self.exit_button.pack(pady=20)\n",
        "\n",
        "    def start_recording(self):\n",
        "\n",
        "        self.is_recording = True\n",
        "        self.start_button['state'] = 'disabled'\n",
        "        self.transcription_box.config(state=tk.NORMAL)\n",
        "        self.transcription_box.delete(1.0, tk.END)\n",
        "        self.transcription_box.insert(tk.END, \"Please wait...\\n\")\n",
        "        self.transcription_box.config(state=tk.DISABLED)\n",
        "        threading.Thread(target=self.recognize_speech).start()\n",
        "\n",
        "    def update_transcription(self, text):\n",
        "        self.transcription_box.config(state=tk.NORMAL)\n",
        "        self.transcription_box.delete(1.0, tk.END)\n",
        "        self.transcription_box.insert(tk.END, f\"Transcribed Text:\\n{text}\")\n",
        "        self.transcription_box.config(state=tk.DISABLED)\n",
        "\n",
        "        # Assuming translate_text function exists and returns the translation\n",
        "        translated_text = translate_text(text)\n",
        "        self.translation_box.config(state=tk.NORMAL)\n",
        "        self.translation_box.delete(1.0, tk.END)\n",
        "        self.translation_box.delete(0.0, tk.END)\n",
        "        self.translation_box.insert(tk.END, translated_text)\n",
        "        self.translation_box.config(state=tk.DISABLED)\n",
        "        self.start_button['state'] = 'enable'\n",
        "\n",
        "    def recognize_speech(self):\n",
        "        with self.microphone as source:\n",
        "            self.recognizer.adjust_for_ambient_noise(source, duration=5)\n",
        "            self.transcription_box.config(state=tk.NORMAL)\n",
        "            self.transcription_box.delete(1.0, tk.END)\n",
        "            self.transcription_box.insert(tk.END, \"Listening...\\n\")\n",
        "            self.transcription_box.config(state=tk.DISABLED)\n",
        "            audio = self.recognizer.listen(source)\n",
        "            try:\n",
        "                #print(1)\n",
        "                transcription = self.recognizer.recognize_google(audio, language=\"ml-IN\")\n",
        "                print(transcription)\n",
        "                self.transcription_box.config(state=tk.NORMAL)\n",
        "                self.transcription_box.delete(1.0, tk.END)\n",
        "                self.transcription_box.insert(tk.END, f\"Transcribed Text:\\n{transcription}\")\n",
        "                self.update_transcription(f\"{transcription}\")\n",
        "            except sr.UnknownValueError:\n",
        "                self.update_transcription(\"Could not understand audio.\")\n",
        "            except sr.RequestError as e:\n",
        "                self.update_transcription(f\"Could not request results; {e}.\")\n",
        "\n",
        "    def exit_application(self):\n",
        "        self.root.quit()\n",
        "\n",
        "if __name__ == \"__main__\":\n",
        "    root = tk.Tk()\n",
        "    app = EloquentSpeakerApp(root)\n",
        "    root.mainloop()\n"
      ],
      "id": "672441f5-4588-4100-95a5-d8e136d3b3ba"
    },
    {
      "cell_type": "code",
      "execution_count": null,
      "id": "719adac8-64d9-41e6-aae6-18ab4b9ac561",
      "metadata": {
        "id": "719adac8-64d9-41e6-aae6-18ab4b9ac561"
      },
      "outputs": [],
      "source": []
    }
  ],
  "metadata": {
    "kernelspec": {
      "display_name": "Python 3",
      "name": "python3"
    },
    "language_info": {
      "codemirror_mode": {
        "name": "ipython",
        "version": 3
      },
      "file_extension": ".py",
      "mimetype": "text/x-python",
      "name": "python",
      "nbconvert_exporter": "python",
      "pygments_lexer": "ipython3",
      "version": "3.11.4"
    },
    "colab": {
      "provenance": [],
      "gpuType": "T4"
    },
    "accelerator": "GPU"
  },
  "nbformat": 4,
  "nbformat_minor": 5
}