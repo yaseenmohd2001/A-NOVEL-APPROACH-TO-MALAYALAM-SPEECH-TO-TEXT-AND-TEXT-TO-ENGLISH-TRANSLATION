{
 "cells": [
  {
   "cell_type": "markdown",
   "id": "cb52511c-5f4b-4f04-a10e-ed4c42d0b9de",
   "metadata": {},
   "source": [
    "# Malayalam Audio Detection"
   ]
  },
  {
   "cell_type": "code",
   "execution_count": null,
   "id": "e57a1b6d-f5e4-46ce-8ff5-65d2a7973162",
   "metadata": {},
   "outputs": [],
   "source": [
    "import speech_recognition as sr  "
   ]
  },
  {
   "cell_type": "code",
   "execution_count": null,
   "id": "a68c7386-77f5-49a6-bc41-f0becf241a21",
   "metadata": {},
   "outputs": [],
   "source": [
    "r = sr.Recognizer()  \n",
    "with sr.Microphone() as source:  \n",
    "    print(\"Please wait. Calibrating microphone...\")   \n",
    "    r.adjust_for_ambient_noise(source, duration=5)  \n",
    "    print(\"Say something!\") \n",
    "    audio = r.listen(source) \n",
    "    try:  \n",
    "        audio=r.recognize_google(audio, language=\"ml-IN\")\n",
    "        print(\"you said '\" +audio + \"'\")  \n",
    "    except sr.UnknownValueError:  \n",
    "        print(\"could not understand audio\")  \n",
    "    except sr.RequestError as e:  \n",
    "        print(\"error; {0}\".format(e))"
   ]
  },
  {
   "cell_type": "markdown",
   "id": "5ee2009c-28eb-48bd-9e7a-c35f1c0d8b32",
   "metadata": {},
   "source": [
    "# Malayalam-English Translator"
   ]
  },
  {
   "cell_type": "code",
   "execution_count": null,
   "id": "15bb3554-f13e-47ef-bd15-fc1ba7bc4177",
   "metadata": {},
   "outputs": [],
   "source": [
    "#!pip install indic-nlp-library\n",
    "#!pip install ctranslate2"
   ]
  },
  {
   "cell_type": "code",
   "execution_count": null,
   "id": "00d1255b-3eec-4f0c-88c8-443d16f30785",
   "metadata": {},
   "outputs": [],
   "source": [
    "import os\n",
    "from indicnlp.tokenize import indic_tokenize\n",
    "from indicnlp.normalize.indic_normalize import IndicNormalizerFactory\n",
    "from indicnlp.transliterate import unicode_transliterate\n",
    "import ctranslate2\n",
    "import sentencepiece as spm"
   ]
  },
  {
   "cell_type": "code",
   "execution_count": null,
   "id": "d3faca38-3621-4253-887f-2177a5e08934",
   "metadata": {},
   "outputs": [],
   "source": [
    "def add_token(sent: str):\n",
    "\n",
    "    return \"mal_Mlym\" + \" \" + \"eng_Latn\" + \" \" + sent\n",
    "\n",
    "def preprocess_sentence(sentence: str,sp_src,model_dir) -> str:\n",
    "\n",
    "    normfactory = IndicNormalizerFactory()\n",
    "    normalizer = normfactory.get_normalizer(\"ml\")  \n",
    "    sent=sentence\n",
    "    xliterator = unicode_transliterate.UnicodeIndicTransliterator()\n",
    "    processed_sent = xliterator.transliterate(\" \".join(indic_tokenize.trivial_tokenize(normalizer.normalize(sent.strip()), \"ml\")),\"ml\",\n",
    "                \"hi\",\n",
    "            ).replace(\" ् \", \"्\")\n",
    "    sents= [\" \".join(sp_src.encode(sent, out_type=str)) for sent in [processed_sent]]\n",
    "\n",
    "    tagged_sents = []\n",
    "    for sent in sents:\n",
    "        tagged_sent = add_token(sent.strip())\n",
    "        tagged_sents.append(tagged_sent)\n",
    "    MAX_SEQ_LEN = 256\n",
    "    new_sents = []\n",
    "\n",
    "    for sent in tagged_sents:\n",
    "        words = sent.split()\n",
    "        num_words = len(words)\n",
    "        if num_words > MAX_SEQ_LEN:\n",
    "            print_str = \" \".join(words[:5]) + \" .... \" + \" \".join(words[-5:])\n",
    "            sent = \" \".join(words[:MAX_SEQ_LEN])\n",
    "            print(\n",
    "                f\"WARNING: Sentence {print_str} truncated to 256 tokens as it exceeds maximum length limit\"\n",
    "            )\n",
    "\n",
    "        new_sents.append(sent)\n",
    "\n",
    "    translator = ctranslate2.Translator(model_dir, device=\"cpu\")\n",
    "    tokenized_sents = [x.strip().split(\" \") for x in new_sents]\n",
    "    translations = translator.translate_batch(\n",
    "            tokenized_sents,\n",
    "            max_batch_size=9216,\n",
    "            batch_type=\"tokens\",\n",
    "            max_input_length=160,\n",
    "            max_decoding_length=256,\n",
    "            beam_size=5,\n",
    "        )\n",
    "    translations = [\" \".join(x.hypotheses[0]) for x in translations]\n",
    "    for i in range(len(translations)):\n",
    "        translations[i] = translations[i].replace(\" \", '').replace(\"▁\", \" \").strip()\n",
    "    \n",
    "    return translations[0]\n",
    "\n",
    "def translate_sentence(sentence: str, model_dir: str) :\n",
    "  \n",
    "    sp_src = spm.SentencePieceProcessor(model_file=os.path.join(model_dir, \"vocab\", \"model.SRC\"))\n",
    "    \n",
    "    preprocessed_sentence = preprocess_sentence(sentence,sp_src,model_dir)\n",
    "    \n",
    "    return preprocessed_sentence\n",
    "\n",
    "model_dir = \"final_model\"\n",
    "malayalam_sentence = audio\n",
    "\n",
    "translated_sentence = translate_sentence(malayalam_sentence, model_dir)\n",
    "print(\"Translated sentence:\", translated_sentence)"
   ]
  },
  {
   "cell_type": "code",
   "execution_count": null,
   "id": "22dfee85-bbd5-4add-a10e-0f5e85954be2",
   "metadata": {},
   "outputs": [],
   "source": []
  },
  {
   "cell_type": "code",
   "execution_count": null,
   "id": "ddf78be5-185a-4a5b-8c60-bd42bf7697ca",
   "metadata": {},
   "outputs": [],
   "source": []
  },
  {
   "cell_type": "code",
   "execution_count": null,
   "id": "a5026001-9b79-4c80-8918-521faf4b43a6",
   "metadata": {},
   "outputs": [],
   "source": []
  },
  {
   "cell_type": "code",
   "execution_count": null,
   "id": "20efaad9-ed68-48a5-9391-4a931fa7cc2b",
   "metadata": {},
   "outputs": [],
   "source": []
  },
  {
   "cell_type": "code",
   "execution_count": null,
   "id": "c8acf87a-91aa-4794-880c-baf04c7db686",
   "metadata": {},
   "outputs": [],
   "source": []
  },
  {
   "cell_type": "code",
   "execution_count": null,
   "id": "b80fd857-ce29-48bb-8dc4-553f92f56dcb",
   "metadata": {},
   "outputs": [],
   "source": []
  },
  {
   "cell_type": "code",
   "execution_count": null,
   "id": "08b7e2be-113a-453b-b28f-141345fcd25e",
   "metadata": {},
   "outputs": [],
   "source": []
  }
 ],
 "metadata": {
  "kernelspec": {
   "display_name": "Python 3 (ipykernel)",
   "language": "python",
   "name": "python3"
  },
  "language_info": {
   "codemirror_mode": {
    "name": "ipython",
    "version": 3
   },
   "file_extension": ".py",
   "mimetype": "text/x-python",
   "name": "python",
   "nbconvert_exporter": "python",
   "pygments_lexer": "ipython3",
   "version": "3.10.9"
  }
 },
 "nbformat": 4,
 "nbformat_minor": 5
}
